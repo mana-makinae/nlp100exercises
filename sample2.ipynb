{
 "cells": [
  {
   "cell_type": "code",
   "execution_count": 1,
   "metadata": {},
   "outputs": [],
   "source": [
    "import numpy as np"
   ]
  },
  {
   "cell_type": "code",
   "execution_count": 16,
   "metadata": {},
   "outputs": [
    {
     "name": "stdout",
     "output_type": "stream",
     "text": [
      "12\n"
     ]
    }
   ],
   "source": [
    "print(12)"
   ]
  },
  {
   "cell_type": "code",
   "execution_count": 17,
   "metadata": {},
   "outputs": [
    {
     "name": "stdout",
     "output_type": "stream",
     "text": [
      "2780\n"
     ]
    }
   ],
   "source": [
    "import pandas as pd\n",
    "df = pd.read_csv('popular-names.txt', sep= '\\t',header=None)\n",
    "print(len(df))"
   ]
  },
  {
   "cell_type": "code",
   "execution_count": 18,
   "metadata": {},
   "outputs": [],
   "source": [
    "df = pd.read_csv('popular-names.txt', sep='\\t', header=None)\n",
    "df.to_csv('popular-names.txt_2', sep=' ', index=False,  header=None)"
   ]
  },
  {
   "cell_type": "code",
   "execution_count": 19,
   "metadata": {},
   "outputs": [],
   "source": [
    "df = pd.read_csv('popular-names.txt', sep='\\t', header=None)\n",
    "#print(len(df))\n",
    "df[0].to_csv('col1.txt', index=False, header=None)\n",
    "df[1].to_csv('col2.txt', index=False, header=None)"
   ]
  },
  {
   "cell_type": "code",
   "execution_count": 20,
   "metadata": {},
   "outputs": [],
   "source": [
    "c1 = pd.read_csv('col1.txt', header=None)\n",
    "c2 = pd.read_csv('col2.txt', header=None)\n",
    "\n",
    "df = pd.concat([c1, c2], axis=1)\n",
    "df.to_csv('ans13txt', sep='\\t', index=False, header=None)"
   ]
  },
  {
   "cell_type": "code",
   "execution_count": 24,
   "metadata": {},
   "outputs": [
    {
     "name": "stdout",
     "output_type": "stream",
     "text": [
      "      0  1     2     3\n",
      "0  Mary  F  7065  1880\n",
      "1  Anna  F  2604  1880\n",
      "2  Emma  F  2003  1880\n"
     ]
    }
   ],
   "source": [
    "import sys\n",
    "if len(sys.argv)==1:\n",
    "    print('set arg n like\"python ans14 py\"')\n",
    "else:\n",
    "    #n = int(sys.argv[1])\n",
    "    n=3\n",
    "    df=pd.read_csv('popular-names.txt', sep='\\t', header=None)\n",
    "    print(df.head(n))"
   ]
  },
  {
   "cell_type": "code",
   "execution_count": 25,
   "metadata": {},
   "outputs": [
    {
     "name": "stdout",
     "output_type": "stream",
     "text": [
      "          0  1      2     3\n",
      "2777  Lucas  M  12585  2018\n",
      "2778  Mason  M  12435  2018\n",
      "2779  Logan  M  12352  2018\n"
     ]
    }
   ],
   "source": [
    "if len(sys.argv)==1:\n",
    "    print('set arg n like\"python ans15 py\"')\n",
    "else:\n",
    "    #n = int(sys.argv[1])\n",
    "    n=3\n",
    "    df=pd.read_csv('popular-names.txt', sep='\\t', header=None)\n",
    "    print(df.tail(n))\n"
   ]
  },
  {
   "cell_type": "code",
   "execution_count": 32,
   "metadata": {},
   "outputs": [],
   "source": [
    "if len(sys.argv)==1:\n",
    "    print('set arg n like\"python ans15 py')\n",
    "else:\n",
    "    #n = int(sys.argv[1])\n",
    "    n = 3\n",
    "    df = pd.read_csv('popular-names.txt', sep='\\t', header=None)\n",
    "    \n",
    "    nrow = -(-len(df)//n)\n",
    "    for i in range(n):\n",
    "        start = nrow * i\n",
    "        end = nrow * (i + 1)\n",
    "        df.loc[start:end].to_csv(f'ch02/ans16_{i}', sep='\\t', index=False, header=None)"
   ]
  },
  {
   "cell_type": "code",
   "execution_count": 34,
   "metadata": {},
   "outputs": [
    {
     "name": "stdout",
     "output_type": "stream",
     "text": [
      "['Mary' 'Anna' 'Emma' 'Elizabeth' 'Minnie' 'Margaret' 'Ida' 'Alice'\n",
      " 'Bertha' 'Sarah' 'John' 'William' 'James' 'Charles' 'George' 'Frank'\n",
      " 'Joseph' 'Thomas' 'Henry' 'Robert' 'Annie' 'Edward' 'Clara' 'Florence'\n",
      " 'Ethel' 'Bessie' 'Harry' 'Helen' 'Ruth' 'Marie' 'Lillian' 'Mildred'\n",
      " 'Dorothy' 'Frances' 'Walter' 'Evelyn' 'Virginia' 'Richard' 'Betty'\n",
      " 'Donald' 'Doris' 'Shirley' 'Barbara' 'Patricia' 'Joan' 'Nancy' 'Carol'\n",
      " 'David' 'Ronald' 'Judith' 'Linda' 'Sandra' 'Carolyn' 'Sharon' 'Michael'\n",
      " 'Susan' 'Donna' 'Larry' 'Kathleen' 'Deborah' 'Gary' 'Karen' 'Debra'\n",
      " 'Pamela' 'Cynthia' 'Mark' 'Steven' 'Lisa' 'Jeffrey' 'Lori' 'Kimberly'\n",
      " 'Tammy' 'Angela' 'Michelle' 'Jennifer' 'Melissa' 'Christopher' 'Brian'\n",
      " 'Amy' 'Laura' 'Tracy' 'Julie' 'Jason' 'Scott' 'Stephanie' 'Heather'\n",
      " 'Nicole' 'Matthew' 'Rebecca' 'Jessica' 'Amanda' 'Daniel' 'Kelly' 'Joshua'\n",
      " 'Crystal' 'Ashley' 'Megan' 'Brittany' 'Andrew' 'Justin' 'Samantha'\n",
      " 'Lauren' 'Emily' 'Brandon' 'Tyler' 'Taylor' 'Nicholas' 'Jacob' 'Hannah'\n",
      " 'Austin' 'Alexis' 'Rachel' 'Madison' 'Abigail' 'Olivia' 'Ethan' 'Anthony'\n",
      " 'Isabella' 'Ava' 'Sophia' 'Chloe' 'Alexander' 'Mia' 'Jayden' 'Noah'\n",
      " 'Aiden' 'Mason' 'Liam' 'Charlotte' 'Harper' 'Benjamin' 'Elijah' 'Amelia'\n",
      " 'Logan' 'Oliver' 'Lucas']\n"
     ]
    }
   ],
   "source": [
    "df = pd.read_csv('popular-names.txt', sep='\\t', header=None)\n",
    "print(df[0].unique())"
   ]
  },
  {
   "cell_type": "code",
   "execution_count": 35,
   "metadata": {},
   "outputs": [
    {
     "name": "stdout",
     "output_type": "stream",
     "text": [
      "            0  1      2     3\n",
      "1340    Linda  F  99689  1947\n",
      "1360    Linda  F  96211  1948\n",
      "1350    James  M  94757  1947\n",
      "1550  Michael  M  92704  1957\n",
      "1351   Robert  M  91640  1947\n",
      "...       ... ..    ...   ...\n",
      "27      Annie  F   1326  1881\n",
      "28     Bertha  F   1324  1881\n",
      "8      Bertha  F   1320  1880\n",
      "29      Alice  F   1308  1881\n",
      "9       Sarah  F   1288  1880\n",
      "\n",
      "[2780 rows x 4 columns]\n"
     ]
    }
   ],
   "source": [
    "df = pd.read_csv('popular-names.txt', sep='\\t', header=None)\n",
    "print(df.sort_values(2, ascending=False))"
   ]
  },
  {
   "cell_type": "code",
   "execution_count": 36,
   "metadata": {},
   "outputs": [
    {
     "name": "stdout",
     "output_type": "stream",
     "text": [
      "James      118\n",
      "William    111\n",
      "Robert     108\n",
      "John       108\n",
      "Mary        92\n",
      "          ... \n",
      "Scott        1\n",
      "Rachel       1\n",
      "Kelly        1\n",
      "Crystal      1\n",
      "Lucas        1\n",
      "Name: 0, Length: 136, dtype: int64\n"
     ]
    }
   ],
   "source": [
    "df = pd.read_csv('popular-names.txt', sep='\\t', header=None)\n",
    "print(df[0].value_counts())"
   ]
  }
 ],
 "metadata": {
  "kernelspec": {
   "display_name": "Python 3.8.9 64-bit",
   "language": "python",
   "name": "python3"
  },
  "language_info": {
   "codemirror_mode": {
    "name": "ipython",
    "version": 3
   },
   "file_extension": ".py",
   "mimetype": "text/x-python",
   "name": "python",
   "nbconvert_exporter": "python",
   "pygments_lexer": "ipython3",
   "version": "3.8.9"
  },
  "orig_nbformat": 4,
  "vscode": {
   "interpreter": {
    "hash": "31f2aee4e71d21fbe5cf8b01ff0e069b9275f58929596ceb00d14d90e3e16cd6"
   }
  }
 },
 "nbformat": 4,
 "nbformat_minor": 2
}
