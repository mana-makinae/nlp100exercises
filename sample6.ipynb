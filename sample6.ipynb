{
 "cells": [
  {
   "cell_type": "code",
   "execution_count": 7,
   "metadata": {},
   "outputs": [],
   "source": [
    "import pandas as pd\n",
    "from sklearn.model_selection import train_test_split\n",
    "\n",
    "\n",
    "newsCorpora = pd.read_table('newsCorpora.csv', header=None)\n",
    "newsCorpora.columns = ['ID', 'TITLE', 'URL', 'PUBLISHER', 'CATEGORY', 'STORY', 'HOSTNAME', 'TIMESTAMP']\n",
    "newsCorpora = newsCorpora[newsCorpora['PUBLISHER'].isin(\n",
    "    ['Reuters', 'Huffington Post', 'Businessweek', 'Contactmusic.com', 'Daily Mail'])].sample(frac=1, random_state=0)\n",
    "\n",
    "X = newsCorpora[['TITLE', 'CATEGORY']].copy()\n",
    "X['CATEGORY'] = X['CATEGORY'].map({'b': 0, 'e': 1, 't': 2, 'm': 3})\n",
    "y = newsCorpora['CATEGORY']\n",
    "\n",
    "X_train, X_test, y_train, y_test = train_test_split(X, y, test_size=0.2, stratify=y, random_state=0)\n",
    "X_valid, X_test, y_valid, y_test = train_test_split(X_test, y_test, test_size=0.5, stratify=y_test, random_state=0)\n",
    "\n",
    "X_train.to_csv('ch06/train2.txt', sep='\\t', index=False, header=None)\n",
    "X_valid.to_csv('ch06/valid2.txt', sep='\\t', index=False, header=None)\n",
    "X_test.to_csv('ch06/test2.txt', sep='\\t', index=False, header=None)"
   ]
  },
  {
   "cell_type": "code",
   "execution_count": null,
   "metadata": {},
   "outputs": [],
   "source": []
  },
  {
   "cell_type": "code",
   "execution_count": null,
   "metadata": {},
   "outputs": [],
   "source": []
  },
  {
   "cell_type": "code",
   "execution_count": 8,
   "metadata": {},
   "outputs": [],
   "source": [
    "import joblib\n",
    "import pandas as pd\n",
    "from sklearn.feature_extraction.text import CountVectorizer\n",
    "\n",
    "\n",
    "X_train = pd.read_table('ch06/train2.txt', header=None)\n",
    "X_valid = pd.read_table('ch06/valid2.txt', header=None)\n",
    "X_test = pd.read_table('ch06/test2.txt', header=None)\n",
    "use_cols = ['TITLE', 'CATEGORY']\n",
    "X_train.columns = use_cols\n",
    "X_valid.columns = use_cols\n",
    "X_test.columns = use_cols\n",
    "X_train['TMP'] = 'train'\n",
    "X_valid['TMP'] = 'valid'\n",
    "X_test['TMP'] = 'test'\n",
    "\n",
    "data = pd.concat([X_train, X_valid, X_test]).reset_index(drop=True)\n",
    "vectorizer = CountVectorizer(token_pattern=u'(?u)\\\\b\\\\w+\\\\b')\n",
    "bag = vectorizer.fit_transform(data['TITLE'])\n",
    "data = pd.concat([data, pd.DataFrame(bag.toarray())], axis=1)\n",
    "\n",
    "joblib.dump(vectorizer.vocabulary_, 'ch06/vocabulary_.joblib')\n",
    "\n",
    "X_train = data.query('TMP==\"train\"').drop(use_cols + ['TMP'], axis=1)\n",
    "X_valid = data.query('TMP==\"valid\"').drop(use_cols + ['TMP'], axis=1)\n",
    "X_test = data.query('TMP==\"test\"').drop(use_cols + ['TMP'], axis=1)\n",
    "\n",
    "X_train.to_csv('ch06/train.feature.txt', sep='\\t', index=False, header=None)\n",
    "X_valid.to_csv('ch06/valid.feature.txt', sep='\\t', index=False, header=None)\n",
    "X_test.to_csv('ch06/test.feature.txt', sep='\\t', index=False, header=None)"
   ]
  },
  {
   "cell_type": "code",
   "execution_count": 10,
   "metadata": {},
   "outputs": [
    {
     "name": "stdout",
     "output_type": "stream",
     "text": [
      "   1 Fed official says weak data caused by weather, should not slow taper  \\\n",
      "0  2  Fed's Charles Plosser sees high bar for change...                     \n",
      "1  3  US open: Stocks fall after Fed official hints ...                     \n",
      "2  4  Fed risks falling 'behind the curve', Charles ...                     \n",
      "3  5  Fed's Plosser: Nasty Weather Has Curbed Job Gr...                     \n",
      "4  6  Plosser: Fed May Have to Accelerate Tapering Pace                     \n",
      "\n",
      "  http://www.latimes.com/business/money/la-fi-mo-federal-reserve-plosser-stimulus-economy-20140310,0,1312750.story\\?track=rss  \\\n",
      "0  http://www.livemint.com/Politics/H2EvwJSK2VE6O...                                                                            \n",
      "1  http://www.ifamagazine.com/news/us-open-stocks...                                                                            \n",
      "2  http://www.ifamagazine.com/news/fed-risks-fall...                                                                            \n",
      "3  http://www.moneynews.com/Economy/federal-reser...                                                                            \n",
      "4  http://www.nasdaq.com/article/plosser-fed-may-...                                                                            \n",
      "\n",
      "  Los Angeles Times  b  ddUyU0VZz0BRneMioxUPQVP6sIxvM      www.latimes.com  \\\n",
      "0          Livemint  b  ddUyU0VZz0BRneMioxUPQVP6sIxvM     www.livemint.com   \n",
      "1      IFA Magazine  b  ddUyU0VZz0BRneMioxUPQVP6sIxvM  www.ifamagazine.com   \n",
      "2      IFA Magazine  b  ddUyU0VZz0BRneMioxUPQVP6sIxvM  www.ifamagazine.com   \n",
      "3         Moneynews  b  ddUyU0VZz0BRneMioxUPQVP6sIxvM    www.moneynews.com   \n",
      "4            NASDAQ  b  ddUyU0VZz0BRneMioxUPQVP6sIxvM       www.nasdaq.com   \n",
      "\n",
      "   1394470370698  \n",
      "0  1394470371207  \n",
      "1  1394470371550  \n",
      "2  1394470371793  \n",
      "3  1394470372027  \n",
      "4  1394470372212  \n"
     ]
    }
   ],
   "source": [
    "df = pd.read_csv('newsCorpora.csv', sep='\\t')\n",
    "print(df.head())"
   ]
  },
  {
   "cell_type": "code",
   "execution_count": 13,
   "metadata": {},
   "outputs": [
    {
     "name": "stdout",
     "output_type": "stream",
     "text": [
      "   id                                              title  \\\n",
      "0   1  Fed official says weak data caused by weather,...   \n",
      "1   2  Fed's Charles Plosser sees high bar for change...   \n",
      "2   3  US open: Stocks fall after Fed official hints ...   \n",
      "3   4  Fed risks falling 'behind the curve', Charles ...   \n",
      "4   5  Fed's Plosser: Nasty Weather Has Curbed Job Gr...   \n",
      "\n",
      "                                                 url          publisher  \\\n",
      "0  http://www.latimes.com/business/money/la-fi-mo...  Los Angeles Times   \n",
      "1  http://www.livemint.com/Politics/H2EvwJSK2VE6O...           Livemint   \n",
      "2  http://www.ifamagazine.com/news/us-open-stocks...       IFA Magazine   \n",
      "3  http://www.ifamagazine.com/news/fed-risks-fall...       IFA Magazine   \n",
      "4  http://www.moneynews.com/Economy/federal-reser...          Moneynews   \n",
      "\n",
      "  category                          story             hostname      timestamp  \n",
      "0        b  ddUyU0VZz0BRneMioxUPQVP6sIxvM      www.latimes.com  1394470370698  \n",
      "1        b  ddUyU0VZz0BRneMioxUPQVP6sIxvM     www.livemint.com  1394470371207  \n",
      "2        b  ddUyU0VZz0BRneMioxUPQVP6sIxvM  www.ifamagazine.com  1394470371550  \n",
      "3        b  ddUyU0VZz0BRneMioxUPQVP6sIxvM  www.ifamagazine.com  1394470371793  \n",
      "4        b  ddUyU0VZz0BRneMioxUPQVP6sIxvM    www.moneynews.com  1394470372027  \n"
     ]
    }
   ],
   "source": [
    "index = ['id', 'title', 'url', 'publisher', 'category', 'story', 'hostname', 'timestamp']\n",
    "df = pd.read_csv('newsCorpora.csv', sep='\\t', names=index)\n",
    "print(df.head())"
   ]
  },
  {
   "cell_type": "code",
   "execution_count": 14,
   "metadata": {},
   "outputs": [
    {
     "name": "stdout",
     "output_type": "stream",
     "text": [
      "    id                                              title  \\\n",
      "12  13       Europe reaches crunch point on banking union   \n",
      "13  14  ECB FOCUS-Stronger euro drowns out ECB's messa...   \n",
      "19  20  Euro Anxieties Wane as Bunds Top Treasuries, S...   \n",
      "20  21  Noyer Says Strong Euro Creates Unwarranted Eco...   \n",
      "29  30  REFILE-Bad loan triggers key feature in ECB ba...   \n",
      "\n",
      "                                                  url     publisher category  \\\n",
      "12  http://in.reuters.com/article/2014/03/10/eu-ba...       Reuters        b   \n",
      "13  http://in.reuters.com/article/2014/03/10/ecb-p...       Reuters        b   \n",
      "19  http://www.businessweek.com/news/2014-03-10/ge...  Businessweek        b   \n",
      "20  http://www.businessweek.com/news/2014-03-10/no...  Businessweek        b   \n",
      "29  http://in.reuters.com/article/2014/03/10/euroz...       Reuters        b   \n",
      "\n",
      "                            story              hostname      timestamp  \n",
      "12  dPhGU51DcrolUIMxbRm0InaHGA2XM        in.reuters.com  1394470501755  \n",
      "13  dPhGU51DcrolUIMxbRm0InaHGA2XM        in.reuters.com  1394470501948  \n",
      "19  dPhGU51DcrolUIMxbRm0InaHGA2XM  www.businessweek.com  1394470503148  \n",
      "20  dPhGU51DcrolUIMxbRm0InaHGA2XM  www.businessweek.com  1394470503366  \n",
      "29  dPhGU51DcrolUIMxbRm0InaHGA2XM        in.reuters.com  1394470505070  \n"
     ]
    }
   ],
   "source": [
    "publisher_opt = ['Reuters', 'Huffington Post', 'Businessweek', 'Contactmusic.com', 'Dail Mail']\n",
    "index = ['id', 'title', 'url', 'publisher', 'category', 'story', 'hostname', 'timestamp']\n",
    "df = pd.read_csv('newsCorpora.csv', sep='\\t', names=index)\n",
    "#pandasの条件抽出、.isin\n",
    "df = df[df['publisher'].isin(publisher_opt)]\n",
    "print(df.head())"
   ]
  },
  {
   "cell_type": "code",
   "execution_count": 18,
   "metadata": {},
   "outputs": [
    {
     "name": "stdout",
     "output_type": "stream",
     "text": [
      "142629    China Hunts Down 'Zombies' to Fix Failed Auto ...\n",
      "338912    Hormel to Acquire Muscle Milk Maker for $450 M...\n",
      "188392    Insurers Say Most Obamacare Customers Paid Fir...\n",
      "101122         FOREX-Dollar inches higher on equities gloom\n",
      "4471      UPDATE 2-Italy's UniCredit posts record $19 bl...\n",
      "Name: title, dtype: object\n",
      "142629    b\n",
      "338912    b\n",
      "188392    b\n",
      "101122    b\n",
      "4471      b\n",
      "Name: category, dtype: object\n"
     ]
    }
   ],
   "source": [
    "from sklearn.model_selection import train_test_split\n",
    "import pandas as pd\n",
    "\n",
    "publisher_opt = ['Reuters', 'Huffington Post', 'Businessweek', 'Contactmusic.com', 'Dail Mail']\n",
    "index = ['id', 'title', 'url', 'publisher', 'category', 'story', 'hostname', 'timestamp']\n",
    "df = pd.read_csv('newsCorpora.csv', sep='\\t', names=index)\n",
    "#pandasの条件抽出、.isin\n",
    "df = df[df['publisher'].isin(publisher_opt)]\n",
    "#test_sizeでテスト用の割合を指定できる\n",
    "#random_stateで乱数シードを指定\n",
    "#x_trainがtitleで、y_trainがcategory\n",
    "x_train, x_test, y_train, y_test = train_test_split(df['title'], df['category'], test_size=0.2, random_state=1)\n",
    "print(x_train.head())\n",
    "print(y_train.head())"
   ]
  },
  {
   "cell_type": "code",
   "execution_count": 20,
   "metadata": {},
   "outputs": [
    {
     "name": "stdout",
     "output_type": "stream",
     "text": [
      "47057     Ukraine Bonds Rally 10th Day as IMF Talks Soot...\n",
      "393266    Orange's network investments help ward off low...\n",
      "326611    Hong Kong Vote Annoying Beijing Risks Curbing ...\n",
      "160618           Wake Up, Internet -- Time to Save Yourself\n",
      "205321    With $51 Million, Seth Rogen's 'Neighbors' Sma...\n",
      "Name: title, dtype: object\n",
      "47057     b\n",
      "393266    b\n",
      "326611    b\n",
      "160618    t\n",
      "205321    e\n",
      "Name: category, dtype: object\n"
     ]
    }
   ],
   "source": [
    "from sklearn.model_selection import train_test_split\n",
    "import pandas as pd\n",
    "\n",
    "publisher_opt = ['Reuters', 'Huffington Post', 'Businessweek', 'Contactmusic.com', 'Dail Mail']\n",
    "index = ['id', 'title', 'url', 'publisher', 'category', 'story', 'hostname', 'timestamp']\n",
    "df = pd.read_csv('newsCorpora.csv', sep='\\t', names=index)\n",
    "#pandasの条件抽出、.isin\n",
    "df = df[df['publisher'].isin(publisher_opt)]\n",
    "#test_sizeでテスト用の割合を指定できる\n",
    "#random_stateで乱数シードを指定\n",
    "#x_trainがtitleで、y_trainがcategory\n",
    "x_train, x_test, y_train, y_test = train_test_split(df['title'], df['category'], test_size=0.2, random_state=1)\n",
    "x_test, x_valid, y_test, y_valid = train_test_split(x_test, y_test, test_size=0.5, random_state=1)\n",
    "print(x_valid.head())\n",
    "print(y_valid.head())\n"
   ]
  },
  {
   "cell_type": "code",
   "execution_count": 21,
   "metadata": {},
   "outputs": [
    {
     "name": "stdout",
     "output_type": "stream",
     "text": [
      "                                                    title category\n",
      "142629  China Hunts Down 'Zombies' to Fix Failed Auto ...        b\n",
      "338912  Hormel to Acquire Muscle Milk Maker for $450 M...        b\n",
      "188392  Insurers Say Most Obamacare Customers Paid Fir...        b\n",
      "101122       FOREX-Dollar inches higher on equities gloom        b\n",
      "4471    UPDATE 2-Italy's UniCredit posts record $19 bl...        b\n"
     ]
    }
   ],
   "source": [
    "from sklearn.model_selection import train_test_split\n",
    "import pandas as pd\n",
    "\n",
    "publisher_opt = ['Reuters', 'Huffington Post', 'Businessweek', 'Contactmusic.com', 'Dail Mail']\n",
    "index = ['id', 'title', 'url', 'publisher', 'category', 'story', 'hostname', 'timestamp']\n",
    "df = pd.read_csv('newsCorpora.csv', sep='\\t', names=index)\n",
    "#pandasの条件抽出、.isin\n",
    "df = df[df['publisher'].isin(publisher_opt)]\n",
    "#test_sizeでテスト用の割合を指定できる\n",
    "#random_stateで乱数シードを指定\n",
    "#x_trainがtitleで、y_trainがcategory\n",
    "x_train, x_test, y_train, y_test = train_test_split(df['title'], df['category'], test_size=0.2, random_state=1)\n",
    "x_test, x_valid, y_test, y_valid = train_test_split(x_test, y_test, test_size=0.5, random_state=1)\n",
    "\n",
    "#pd.concatで、データを連結させる\n",
    "train = pd.concat([x_train, y_train], axis=1)\n",
    "test = pd.concat([x_test, y_test], axis=1)\n",
    "valid = pd.concat([x_valid, y_valid], axis=1)\n",
    "print(train.head)\n"
   ]
  },
  {
   "cell_type": "code",
   "execution_count": 3,
   "metadata": {},
   "outputs": [],
   "source": [
    "from sklearn.model_selection import train_test_split\n",
    "import pandas as pd\n",
    "\n",
    "publisher_opt = ['Reuters', 'Huffington Post', 'Businessweek', 'Contactmusic.com', 'Dail Mail']\n",
    "index = ['id', 'title', 'url', 'publisher', 'category', 'story', 'hostname', 'timestamp']\n",
    "df = pd.read_csv('newsCorpora.csv', sep='\\t', names=index)\n",
    "#pandasの条件抽出、.isin\n",
    "df = df[df['publisher'].isin(publisher_opt)]\n",
    "#test_sizeでテスト用の割合を指定できる\n",
    "#random_stateで乱数シードを指定\n",
    "#x_trainがtitleで、y_trainがcategory\n",
    "x_train, x_test, y_train, y_test = train_test_split(df['title'], df['category'], test_size=0.2, random_state=1)\n",
    "x_test, x_valid, y_test, y_valid = train_test_split(x_test, y_test, test_size=0.5, random_state=1)\n",
    "\n",
    "#pd.concatで、データを連結させる\n",
    "train = pd.concat([x_train, y_train], axis=1)\n",
    "test = pd.concat([x_test, y_test], axis=1)\n",
    "valid = pd.concat([x_valid, y_valid], axis=1)\n",
    "\n",
    "train.to_csv('ch06/train.txt', sep='\\t')\n",
    "test.to_csv('ch06/test.txt', sep='\\t')\n",
    "valid.to_csv('ch06/valid.txt', sep='\\t')"
   ]
  },
  {
   "cell_type": "code",
   "execution_count": 4,
   "metadata": {},
   "outputs": [
    {
     "name": "stdout",
     "output_type": "stream",
     "text": [
      "------------train------------\n",
      "business               : 4343\n",
      "science and technology : 979\n",
      "entertainment          : 3028\n",
      "health                 : 518\n",
      "------------test------------\n",
      "business               : 547\n",
      "science and technology : 106\n",
      "entertainment          : 379\n",
      "health                 : 77\n",
      "------------valid------------\n",
      "business               : 533\n",
      "science and technology : 121\n",
      "entertainment          : 398\n",
      "health                 : 57\n"
     ]
    }
   ],
   "source": [
    "print('------------train------------')\n",
    "print('business               :', (train['category'] == 'b').sum())\n",
    "print('science and technology :', (train['category'] == 't').sum())\n",
    "print('entertainment          :', (train['category'] == 'e').sum())\n",
    "print('health                 :', (train['category'] == 'm').sum())\n",
    "print('------------test------------')\n",
    "print('business               :', (test['category'] == 'b').sum())\n",
    "print('science and technology :', (test['category'] == 't').sum())\n",
    "print('entertainment          :', (test['category'] == 'e').sum())\n",
    "print('health                 :', (test['category'] == 'm').sum())\n",
    "print('------------valid------------')\n",
    "print('business               :', (valid['category'] == 'b').sum())\n",
    "print('science and technology :', (valid['category'] == 't').sum())\n",
    "print('entertainment          :', (valid['category'] == 'e').sum())\n",
    "print('health                 :', (valid['category'] == 'm').sum())"
   ]
  },
  {
   "cell_type": "code",
   "execution_count": 5,
   "metadata": {},
   "outputs": [
    {
     "name": "stdout",
     "output_type": "stream",
     "text": [
      "                                                    title category\n",
      "142629  China Hunts Down 'Zombies' to Fix Failed Auto ...        b\n",
      "338912  Hormel to Acquire Muscle Milk Maker for $450 M...        b\n",
      "188392  Insurers Say Most Obamacare Customers Paid Fir...        b\n",
      "101122       FOREX-Dollar inches higher on equities gloom        b\n",
      "4471    UPDATE 2-Italy's UniCredit posts record $19 bl...        b\n"
     ]
    }
   ],
   "source": [
    "#index_colで使いたい列の列番号を０始まりで指定する、０なら元々のまま、１なら、元々２列目にくるものが一番左に出てくる\n",
    "train = pd.read_csv('ch06/train.txt', sep='\\t', index_col=0)\n",
    "test = pd.read_csv('ch06/test.txt', sep='\\t', index_col=0)\n",
    "valid = pd.read_csv('ch06//valid.txt', sep='\\t', index_col=0)\n",
    "\n",
    "print(train.head())"
   ]
  },
  {
   "cell_type": "code",
   "execution_count": 6,
   "metadata": {},
   "outputs": [
    {
     "name": "stdout",
     "output_type": "stream",
     "text": [
      "                                                    Unnamed: 0 category\n",
      "title                                                                  \n",
      "China Hunts Down 'Zombies' to Fix Failed Auto P...      142629        b\n",
      "Hormel to Acquire Muscle Milk Maker for $450 Mi...      338912        b\n",
      "Insurers Say Most Obamacare Customers Paid Firs...      188392        b\n",
      "FOREX-Dollar inches higher on equities gloom            101122        b\n",
      "UPDATE 2-Italy's UniCredit posts record $19 bln...        4471        b\n"
     ]
    }
   ],
   "source": [
    "train = pd.read_csv('ch06/train.txt', sep='\\t', index_col=1)\n",
    "test = pd.read_csv('ch06/test.txt', sep='\\t', index_col=0)\n",
    "valid = pd.read_csv('ch06/valid.txt', sep='\\t', index_col=0)\n",
    "\n",
    "print(train.head())"
   ]
  },
  {
   "cell_type": "code",
   "execution_count": 8,
   "metadata": {},
   "outputs": [
    {
     "data": {
      "text/html": [
       "<div>\n",
       "<style scoped>\n",
       "    .dataframe tbody tr th:only-of-type {\n",
       "        vertical-align: middle;\n",
       "    }\n",
       "\n",
       "    .dataframe tbody tr th {\n",
       "        vertical-align: top;\n",
       "    }\n",
       "\n",
       "    .dataframe thead th {\n",
       "        text-align: right;\n",
       "    }\n",
       "</style>\n",
       "<table border=\"1\" class=\"dataframe\">\n",
       "  <thead>\n",
       "    <tr style=\"text-align: right;\">\n",
       "      <th></th>\n",
       "      <th>0b</th>\n",
       "      <th>0bn</th>\n",
       "      <th>0c</th>\n",
       "      <th>0ct</th>\n",
       "      <th>0d</th>\n",
       "      <th>0f</th>\n",
       "      <th>0ff</th>\n",
       "      <th>0g</th>\n",
       "      <th>0headlines</th>\n",
       "      <th>0k</th>\n",
       "      <th>...</th>\n",
       "      <th>zoe</th>\n",
       "      <th>zombie</th>\n",
       "      <th>zombies</th>\n",
       "      <th>zone</th>\n",
       "      <th>zoosk</th>\n",
       "      <th>zpfa0mqti0qdrpfhqwjm</th>\n",
       "      <th>zynga</th>\n",
       "      <th>œf</th>\n",
       "      <th>œpiece</th>\n",
       "      <th>œwaist</th>\n",
       "    </tr>\n",
       "  </thead>\n",
       "  <tbody>\n",
       "    <tr>\n",
       "      <th>0</th>\n",
       "      <td>0.0</td>\n",
       "      <td>0.0</td>\n",
       "      <td>0.0</td>\n",
       "      <td>0.0</td>\n",
       "      <td>0.0</td>\n",
       "      <td>0.0</td>\n",
       "      <td>0.0</td>\n",
       "      <td>0.0</td>\n",
       "      <td>0.0</td>\n",
       "      <td>0.0</td>\n",
       "      <td>...</td>\n",
       "      <td>0.0</td>\n",
       "      <td>0.0</td>\n",
       "      <td>0.446746</td>\n",
       "      <td>0.0</td>\n",
       "      <td>0.0</td>\n",
       "      <td>0.0</td>\n",
       "      <td>0.0</td>\n",
       "      <td>0.0</td>\n",
       "      <td>0.0</td>\n",
       "      <td>0.0</td>\n",
       "    </tr>\n",
       "    <tr>\n",
       "      <th>1</th>\n",
       "      <td>0.0</td>\n",
       "      <td>0.0</td>\n",
       "      <td>0.0</td>\n",
       "      <td>0.0</td>\n",
       "      <td>0.0</td>\n",
       "      <td>0.0</td>\n",
       "      <td>0.0</td>\n",
       "      <td>0.0</td>\n",
       "      <td>0.0</td>\n",
       "      <td>0.0</td>\n",
       "      <td>...</td>\n",
       "      <td>0.0</td>\n",
       "      <td>0.0</td>\n",
       "      <td>0.000000</td>\n",
       "      <td>0.0</td>\n",
       "      <td>0.0</td>\n",
       "      <td>0.0</td>\n",
       "      <td>0.0</td>\n",
       "      <td>0.0</td>\n",
       "      <td>0.0</td>\n",
       "      <td>0.0</td>\n",
       "    </tr>\n",
       "    <tr>\n",
       "      <th>2</th>\n",
       "      <td>0.0</td>\n",
       "      <td>0.0</td>\n",
       "      <td>0.0</td>\n",
       "      <td>0.0</td>\n",
       "      <td>0.0</td>\n",
       "      <td>0.0</td>\n",
       "      <td>0.0</td>\n",
       "      <td>0.0</td>\n",
       "      <td>0.0</td>\n",
       "      <td>0.0</td>\n",
       "      <td>...</td>\n",
       "      <td>0.0</td>\n",
       "      <td>0.0</td>\n",
       "      <td>0.000000</td>\n",
       "      <td>0.0</td>\n",
       "      <td>0.0</td>\n",
       "      <td>0.0</td>\n",
       "      <td>0.0</td>\n",
       "      <td>0.0</td>\n",
       "      <td>0.0</td>\n",
       "      <td>0.0</td>\n",
       "    </tr>\n",
       "    <tr>\n",
       "      <th>3</th>\n",
       "      <td>0.0</td>\n",
       "      <td>0.0</td>\n",
       "      <td>0.0</td>\n",
       "      <td>0.0</td>\n",
       "      <td>0.0</td>\n",
       "      <td>0.0</td>\n",
       "      <td>0.0</td>\n",
       "      <td>0.0</td>\n",
       "      <td>0.0</td>\n",
       "      <td>0.0</td>\n",
       "      <td>...</td>\n",
       "      <td>0.0</td>\n",
       "      <td>0.0</td>\n",
       "      <td>0.000000</td>\n",
       "      <td>0.0</td>\n",
       "      <td>0.0</td>\n",
       "      <td>0.0</td>\n",
       "      <td>0.0</td>\n",
       "      <td>0.0</td>\n",
       "      <td>0.0</td>\n",
       "      <td>0.0</td>\n",
       "    </tr>\n",
       "    <tr>\n",
       "      <th>4</th>\n",
       "      <td>0.0</td>\n",
       "      <td>0.0</td>\n",
       "      <td>0.0</td>\n",
       "      <td>0.0</td>\n",
       "      <td>0.0</td>\n",
       "      <td>0.0</td>\n",
       "      <td>0.0</td>\n",
       "      <td>0.0</td>\n",
       "      <td>0.0</td>\n",
       "      <td>0.0</td>\n",
       "      <td>...</td>\n",
       "      <td>0.0</td>\n",
       "      <td>0.0</td>\n",
       "      <td>0.000000</td>\n",
       "      <td>0.0</td>\n",
       "      <td>0.0</td>\n",
       "      <td>0.0</td>\n",
       "      <td>0.0</td>\n",
       "      <td>0.0</td>\n",
       "      <td>0.0</td>\n",
       "      <td>0.0</td>\n",
       "    </tr>\n",
       "  </tbody>\n",
       "</table>\n",
       "<p>5 rows × 10795 columns</p>\n",
       "</div>"
      ],
      "text/plain": [
       "    0b  0bn   0c  0ct   0d   0f  0ff   0g  0headlines   0k  ...  zoe  zombie  \\\n",
       "0  0.0  0.0  0.0  0.0  0.0  0.0  0.0  0.0         0.0  0.0  ...  0.0     0.0   \n",
       "1  0.0  0.0  0.0  0.0  0.0  0.0  0.0  0.0         0.0  0.0  ...  0.0     0.0   \n",
       "2  0.0  0.0  0.0  0.0  0.0  0.0  0.0  0.0         0.0  0.0  ...  0.0     0.0   \n",
       "3  0.0  0.0  0.0  0.0  0.0  0.0  0.0  0.0         0.0  0.0  ...  0.0     0.0   \n",
       "4  0.0  0.0  0.0  0.0  0.0  0.0  0.0  0.0         0.0  0.0  ...  0.0     0.0   \n",
       "\n",
       "    zombies  zone  zoosk  zpfa0mqti0qdrpfhqwjm  zynga   œf  œpiece  œwaist  \n",
       "0  0.446746   0.0    0.0                   0.0    0.0  0.0     0.0     0.0  \n",
       "1  0.000000   0.0    0.0                   0.0    0.0  0.0     0.0     0.0  \n",
       "2  0.000000   0.0    0.0                   0.0    0.0  0.0     0.0     0.0  \n",
       "3  0.000000   0.0    0.0                   0.0    0.0  0.0     0.0     0.0  \n",
       "4  0.000000   0.0    0.0                   0.0    0.0  0.0     0.0     0.0  \n",
       "\n",
       "[5 rows x 10795 columns]"
      ]
     },
     "execution_count": 8,
     "metadata": {},
     "output_type": "execute_result"
    }
   ],
   "source": [
    "train = pd.read_csv('ch06/train.txt', sep='\\t', index_col=0)\n",
    "test = pd.read_csv('ch06/test.txt', sep='\\t', index_col=0)\n",
    "valid = pd.read_csv('ch06/valid.txt', sep='\\t', index_col=0)\n",
    "\n",
    "\n",
    "import re\n",
    "import string\n",
    "\n",
    "def preprocessing(text: str):\n",
    "# .translate→＞　複数の文字列内の文字を変換したり削除したいとき、\n",
    "# ①.maketrans で　.translate()に使える変換テーブルを作成する\n",
    "# ② .translate()で文字列内の文字を変換する\n",
    "  table = str.maketrans(string.punctuation, ' ' * len(string.punctuation))\n",
    "  text = text.translate(table)\n",
    "  text = text.lower()\n",
    "  text = re.sub(r'[0-9]+', '0', text)\n",
    "  return text\n",
    "\n",
    "train['title'] = train['title'].map(lambda x: preprocessing(x))\n",
    "test['title'] = test['title'].map(lambda x: preprocessing(x))\n",
    "valid['title'] = valid['title'].map(lambda x: preprocessing(x))\n",
    "\n",
    "from sklearn.feature_extraction.text import TfidfVectorizer\n",
    "\n",
    "vectorizer = TfidfVectorizer()\n",
    "train_x = vectorizer.fit_transform(train['title'])\n",
    "test_x = vectorizer.transform(test['title'])\n",
    "valid_x = vectorizer.transform(valid['title'])\n",
    "\n",
    "train_x = pd.DataFrame(train_x.toarray(), columns=vectorizer.get_feature_names_out())\n",
    "test_x = pd.DataFrame(test_x.toarray(), columns=vectorizer.get_feature_names_out())\n",
    "valid_x = pd.DataFrame(valid_x.toarray(), columns=vectorizer.get_feature_names_out())\n",
    "train_x.head()"
   ]
  },
  {
   "cell_type": "code",
   "execution_count": 2,
   "metadata": {},
   "outputs": [
    {
     "name": "stdout",
     "output_type": "stream",
     "text": [
      "【学習データ】\n",
      "b    4502\n",
      "e    4223\n",
      "t    1219\n",
      "m     728\n",
      "Name: CATEGORY, dtype: int64\n",
      "【検証データ】\n",
      "b    562\n",
      "e    528\n",
      "t    153\n",
      "m     91\n",
      "Name: CATEGORY, dtype: int64\n",
      "【評価データ】\n",
      "b    563\n",
      "e    528\n",
      "t    152\n",
      "m     91\n",
      "Name: CATEGORY, dtype: int64\n"
     ]
    }
   ],
   "source": [
    "import pandas as pd\n",
    "from sklearn.model_selection import train_test_split\n",
    "\n",
    "# データの読込\n",
    "df = pd.read_csv('./newsCorpora.csv', header=None, sep='\\t', names=['ID', 'TITLE', 'URL', 'PUBLISHER', 'CATEGORY', 'STORY', 'HOSTNAME', 'TIMESTAMP'])\n",
    "\n",
    "# データの抽出\n",
    "df = df.loc[df['PUBLISHER'].isin(['Reuters', 'Huffington Post', 'Businessweek', 'Contactmusic.com', 'Daily Mail']), ['TITLE', 'CATEGORY']]\n",
    "\n",
    "# データの分割\n",
    "train, valid_test = train_test_split(df, test_size=0.2, shuffle=True, random_state=123, stratify=df['CATEGORY'])\n",
    "valid, test = train_test_split(valid_test, test_size=0.5, shuffle=True, random_state=123, stratify=valid_test['CATEGORY'])\n",
    "\n",
    "# データの保存\n",
    "train.to_csv('./train.txt', sep='\\t', index=False)\n",
    "valid.to_csv('./valid.txt', sep='\\t', index=False)\n",
    "test.to_csv('./test.txt', sep='\\t', index=False)\n",
    "\n",
    "# 事例数の確認\n",
    "print('【学習データ】')\n",
    "print(train['CATEGORY'].value_counts())\n",
    "print('【検証データ】')\n",
    "print(valid['CATEGORY'].value_counts())\n",
    "print('【評価データ】')\n",
    "print(test['CATEGORY'].value_counts())"
   ]
  },
  {
   "cell_type": "code",
   "execution_count": 3,
   "metadata": {},
   "outputs": [],
   "source": [
    "import string\n",
    "import re\n",
    "\n",
    "def preprocessing(text):\n",
    "# .translate→＞　複数の文字列内の文字を変換したり削除したいとき、\n",
    "# ①.maketrans で　.translate()に使える変換テーブルを作成する\n",
    "# ② .translate()で文字列内の文字を変換する\n",
    "#http://www.w3big.com/ja/python3/python3-string-maketrans.html#gsc.tab=0\n",
    "#sentenceだけを純粋に見たいから、余計な特徴量を消す\n",
    "  table = str.maketrans(string.punctuation, ' '*len(string.punctuation))\n",
    "  text = text.translate(table)  # 記号をスペースに置換\n",
    "  text = text.lower()  # 小文字化\n",
    "  text = re.sub('[0-9]+', '0', text)  # 数字列を0に置換\n",
    "\n",
    "  return text\n",
    "# データの再結合\n",
    "#print(df.head())\n",
    "df = pd.concat([train, valid, test], axis=0)\n",
    "#print(df.head())\n",
    "df.reset_index(drop=True, inplace=True)  # indexを振りなおす\n",
    "\n",
    "\n",
    "# 前処理の実施\n",
    "df['TITLE'] = df['TITLE'].map(lambda x: preprocessing(x))\n",
    "\n",
    "#print(df.head())\n",
    "\n",
    "from sklearn.feature_extraction.text import TfidfVectorizer\n",
    "\n",
    "# データの分割\n",
    "train_valid = df[:len(train) + len(valid)]\n",
    "#print(train_valid.head())\n",
    "# testのみ\n",
    "test = df[len(train) + len(valid):]\n",
    "#print(test.head())\n",
    "# TfidfVectorizer term freequency inverse document frequency \n",
    "#min_dif 使用されている文章数が10以下の場合の単語は排除する\n",
    "#特徴量として加えるngramの範囲を(下限, 上限)で指定できる。。（１,2)なら，各単語に加えてbi-gramも考慮されることになります\n",
    "vec_tfidf = TfidfVectorizer(min_df=10, ngram_range=(1, 2))  # ngram_rangeでTF-IDFを計算する単語の長さを指定\n",
    "\n",
    "\n",
    "# ベクトル化\n",
    "X_train_valid = vec_tfidf.fit_transform(train_valid['TITLE'])  # testの情報は使わない\n",
    "X_test = vec_tfidf.transform(test['TITLE'])\n",
    "#print(X_train_valid)\n",
    "#print(X_test)\n",
    "\n",
    "# ベクトルをデータフレームに変換,DataFrameはvalues, columns, indexの３つを持つ\n",
    "X_train_valid = pd.DataFrame(X_train_valid.toarray(), columns=vec_tfidf.get_feature_names_out())\n",
    "X_test = pd.DataFrame(X_test.toarray(), columns=vec_tfidf.get_feature_names_out())\n",
    "#print(X_train_valid)\n",
    "# データの分割\n",
    "X_train = X_train_valid[:len(train)]\n",
    "X_valid = X_train_valid[len(train):]\n",
    "\n",
    "# データの保存\n",
    "X_train.to_csv('./X_train.txt', sep='\\t', index=False)\n",
    "X_valid.to_csv('./X_valid.txt', sep='\\t', index=False)\n",
    "X_test.to_csv('./X_test.txt', sep='\\t', index=False)\n",
    "\n",
    "#print(X_train.head())"
   ]
  },
  {
   "cell_type": "code",
   "execution_count": 4,
   "metadata": {},
   "outputs": [
    {
     "data": {
      "text/html": [
       "<style>#sk-container-id-1 {color: black;background-color: white;}#sk-container-id-1 pre{padding: 0;}#sk-container-id-1 div.sk-toggleable {background-color: white;}#sk-container-id-1 label.sk-toggleable__label {cursor: pointer;display: block;width: 100%;margin-bottom: 0;padding: 0.3em;box-sizing: border-box;text-align: center;}#sk-container-id-1 label.sk-toggleable__label-arrow:before {content: \"▸\";float: left;margin-right: 0.25em;color: #696969;}#sk-container-id-1 label.sk-toggleable__label-arrow:hover:before {color: black;}#sk-container-id-1 div.sk-estimator:hover label.sk-toggleable__label-arrow:before {color: black;}#sk-container-id-1 div.sk-toggleable__content {max-height: 0;max-width: 0;overflow: hidden;text-align: left;background-color: #f0f8ff;}#sk-container-id-1 div.sk-toggleable__content pre {margin: 0.2em;color: black;border-radius: 0.25em;background-color: #f0f8ff;}#sk-container-id-1 input.sk-toggleable__control:checked~div.sk-toggleable__content {max-height: 200px;max-width: 100%;overflow: auto;}#sk-container-id-1 input.sk-toggleable__control:checked~label.sk-toggleable__label-arrow:before {content: \"▾\";}#sk-container-id-1 div.sk-estimator input.sk-toggleable__control:checked~label.sk-toggleable__label {background-color: #d4ebff;}#sk-container-id-1 div.sk-label input.sk-toggleable__control:checked~label.sk-toggleable__label {background-color: #d4ebff;}#sk-container-id-1 input.sk-hidden--visually {border: 0;clip: rect(1px 1px 1px 1px);clip: rect(1px, 1px, 1px, 1px);height: 1px;margin: -1px;overflow: hidden;padding: 0;position: absolute;width: 1px;}#sk-container-id-1 div.sk-estimator {font-family: monospace;background-color: #f0f8ff;border: 1px dotted black;border-radius: 0.25em;box-sizing: border-box;margin-bottom: 0.5em;}#sk-container-id-1 div.sk-estimator:hover {background-color: #d4ebff;}#sk-container-id-1 div.sk-parallel-item::after {content: \"\";width: 100%;border-bottom: 1px solid gray;flex-grow: 1;}#sk-container-id-1 div.sk-label:hover label.sk-toggleable__label {background-color: #d4ebff;}#sk-container-id-1 div.sk-serial::before {content: \"\";position: absolute;border-left: 1px solid gray;box-sizing: border-box;top: 0;bottom: 0;left: 50%;z-index: 0;}#sk-container-id-1 div.sk-serial {display: flex;flex-direction: column;align-items: center;background-color: white;padding-right: 0.2em;padding-left: 0.2em;position: relative;}#sk-container-id-1 div.sk-item {position: relative;z-index: 1;}#sk-container-id-1 div.sk-parallel {display: flex;align-items: stretch;justify-content: center;background-color: white;position: relative;}#sk-container-id-1 div.sk-item::before, #sk-container-id-1 div.sk-parallel-item::before {content: \"\";position: absolute;border-left: 1px solid gray;box-sizing: border-box;top: 0;bottom: 0;left: 50%;z-index: -1;}#sk-container-id-1 div.sk-parallel-item {display: flex;flex-direction: column;z-index: 1;position: relative;background-color: white;}#sk-container-id-1 div.sk-parallel-item:first-child::after {align-self: flex-end;width: 50%;}#sk-container-id-1 div.sk-parallel-item:last-child::after {align-self: flex-start;width: 50%;}#sk-container-id-1 div.sk-parallel-item:only-child::after {width: 0;}#sk-container-id-1 div.sk-dashed-wrapped {border: 1px dashed gray;margin: 0 0.4em 0.5em 0.4em;box-sizing: border-box;padding-bottom: 0.4em;background-color: white;}#sk-container-id-1 div.sk-label label {font-family: monospace;font-weight: bold;display: inline-block;line-height: 1.2em;}#sk-container-id-1 div.sk-label-container {text-align: center;}#sk-container-id-1 div.sk-container {/* jupyter's `normalize.less` sets `[hidden] { display: none; }` but bootstrap.min.css set `[hidden] { display: none !important; }` so we also need the `!important` here to be able to override the default hidden behavior on the sphinx rendered scikit-learn.org. See: https://github.com/scikit-learn/scikit-learn/issues/21755 */display: inline-block !important;position: relative;}#sk-container-id-1 div.sk-text-repr-fallback {display: none;}</style><div id=\"sk-container-id-1\" class=\"sk-top-container\"><div class=\"sk-text-repr-fallback\"><pre>LogisticRegression(max_iter=10000, random_state=123)</pre><b>In a Jupyter environment, please rerun this cell to show the HTML representation or trust the notebook. <br />On GitHub, the HTML representation is unable to render, please try loading this page with nbviewer.org.</b></div><div class=\"sk-container\" hidden><div class=\"sk-item\"><div class=\"sk-estimator sk-toggleable\"><input class=\"sk-toggleable__control sk-hidden--visually\" id=\"sk-estimator-id-1\" type=\"checkbox\" checked><label for=\"sk-estimator-id-1\" class=\"sk-toggleable__label sk-toggleable__label-arrow\">LogisticRegression</label><div class=\"sk-toggleable__content\"><pre>LogisticRegression(max_iter=10000, random_state=123)</pre></div></div></div></div></div>"
      ],
      "text/plain": [
       "LogisticRegression(max_iter=10000, random_state=123)"
      ]
     },
     "execution_count": 4,
     "metadata": {},
     "output_type": "execute_result"
    }
   ],
   "source": [
    "from sklearn.linear_model import LogisticRegression\n",
    "#print(X_train)\n",
    "#print(train['CATEGORY'])\n",
    "# モデルの学習\n",
    "lg = LogisticRegression(random_state=123, max_iter=10000) #ロジスティック回帰モデルのインスタンスを作成\n",
    "lg.fit(X_train, train['CATEGORY']) #ロジスティックモデルの重みを学習"
   ]
  },
  {
   "cell_type": "code",
   "execution_count": 5,
   "metadata": {},
   "outputs": [
    {
     "name": "stdout",
     "output_type": "stream",
     "text": [
      "[array([0.93943023, 0.98281993, 0.61624726, ..., 0.98332608, 0.80166171,\n",
      "       0.77274281]), array(['b', 'b', 'b', ..., 'b', 'e', 'e'], dtype=object)]\n"
     ]
    }
   ],
   "source": [
    "import numpy as np\n",
    "\n",
    "def score_lg(lg, X):\n",
    "  return [np.max(lg.predict_proba(X), axis=1), lg.predict(X)]\n",
    "\n",
    "#predict\t予測する、所属しているクラスが返ってくる\n",
    "#predict_proba\t所属しているクラスの確率が戻ってくる\n",
    "#データの見方、bの確率は0.9394,,,,,,,\n",
    "\n",
    "train_pred = score_lg(lg, X_train)\n",
    "test_pred = score_lg(lg, X_test)\n",
    "#print(X_train)\n",
    "print(train_pred)\n",
    "\n"
   ]
  },
  {
   "cell_type": "code",
   "execution_count": 8,
   "metadata": {},
   "outputs": [
    {
     "name": "stdout",
     "output_type": "stream",
     "text": [
      "正解率（学習データ）：0.923\n",
      "正解率（評価データ）：0.886\n"
     ]
    }
   ],
   "source": [
    "from sklearn.metrics import accuracy_score\n",
    "#accuracy_score(テストデータの正解ラベル, 推論したいデータのクラスラベル)\n",
    "train_accuracy = accuracy_score(train['CATEGORY'], train_pred[1])\n",
    "test_accuracy = accuracy_score(test['CATEGORY'], test_pred[1])\n",
    "\n",
    "print(f'正解率（学習データ）：{train_accuracy:.3f}')\n",
    "print(f'正解率（評価データ）：{test_accuracy:.3f}')"
   ]
  },
  {
   "cell_type": "code",
   "execution_count": 92,
   "metadata": {},
   "outputs": [
    {
     "name": "stdout",
     "output_type": "stream",
     "text": [
      "[[4347   95    7   53]\n",
      " [  66 4146    3    8]\n",
      " [ 102  134  482   10]\n",
      " [ 188  145    8  878]]\n"
     ]
    },
    {
     "data": {
      "image/png": "[encoded data removed]",
      "text/plain": [
       "<Figure size 432x288 with 2 Axes>"
      ]
     },
     "metadata": {
      "needs_background": "light"
     },
     "output_type": "display_data"
    }
   ],
   "source": [
    "from sklearn.metrics import confusion_matrix\n",
    "import seaborn as sns\n",
    "import matplotlib.pyplot as plt\n",
    "\n",
    "# confusion_matrix(テストデータの正解ラベル, 推論したいデータのクラスラベル)\n",
    "train_cm = confusion_matrix(train['CATEGORY'], train_pred[1])\n",
    "print(train_cm)\n",
    "#sns.heatmap(データ、セルに値を出力する、カラーマップの色を指定する)\n",
    "sns.heatmap(train_cm, annot=True, cmap='Reds')\n",
    "plt.show()"
   ]
  },
  {
   "cell_type": "code",
   "execution_count": 57,
   "metadata": {},
   "outputs": [
    {
     "name": "stdout",
     "output_type": "stream",
     "text": [
      "[[533  20   2   8]\n",
      " [ 12 513   1   2]\n",
      " [ 13  34  39   5]\n",
      " [ 28  26   1  97]]\n"
     ]
    },
    {
     "data": {
      "image/png": "[encoded data removed]",
      "text/plain": [
       "<Figure size 432x288 with 2 Axes>"
      ]
     },
     "metadata": {
      "needs_background": "light"
     },
     "output_type": "display_data"
    }
   ],
   "source": [
    "# 評価データ\n",
    "test_cm = confusion_matrix(test['CATEGORY'], test_pred[1])\n",
    "print(test_cm)\n",
    "sns.heatmap(test_cm, annot=True, cmap='Blues')\n",
    "plt.show()"
   ]
  },
  {
   "cell_type": "code",
   "execution_count": 21,
   "metadata": {},
   "outputs": [
    {
     "name": "stdout",
     "output_type": "stream",
     "text": [
      "             適合率       再現率     F1スコア\n",
      "b       0.909556  0.946714  0.927763\n",
      "e       0.865093  0.971591  0.915254\n",
      "t       0.866071  0.638158  0.734848\n",
      "m       0.906977  0.428571  0.582090\n",
      "マイクロ平均  0.886057  0.886057  0.886057\n",
      "マクロ平均   0.886924  0.746259  0.789989\n"
     ]
    }
   ],
   "source": [
    "from sklearn.metrics import precision_score, recall_score, f1_score\n",
    "#precision, recall, f1スコア、andrewでやったよおおおおおおおおお\n",
    "def calculate_scores(y_true, y_pred):\n",
    "  # 適合率、正予測の正答率\n",
    "  precision = precision_score(test['CATEGORY'], test_pred[1], average=None, labels=['b', 'e', 't', 'm'])  # Noneを指定するとクラスごとの精度をndarrayで返す\n",
    "  precision = np.append(precision, precision_score(y_true, y_pred, average='micro'))  # 末尾にマイクロ平均を追加\n",
    "  precision = np.append(precision, precision_score(y_true, y_pred, average='macro'))  # 末尾にマクロ平均を追加\n",
    "\n",
    "  # 再現率、正に対する正答率\n",
    "  recall = recall_score(test['CATEGORY'], test_pred[1], average=None, labels=['b', 'e', 't', 'm'])\n",
    "  recall = np.append(recall, recall_score(y_true, y_pred, average='micro'))\n",
    "  recall = np.append(recall, recall_score(y_true, y_pred, average='macro'))\n",
    "\n",
    "  # F1スコア、適合率と再現率の調和平均\n",
    "  f1 = f1_score(test['CATEGORY'], test_pred[1], average=None, labels=['b', 'e', 't', 'm'])\n",
    "  f1 = np.append(f1, f1_score(y_true, y_pred, average='micro'))\n",
    "  f1 = np.append(f1, f1_score(y_true, y_pred, average='macro'))\n",
    "\n",
    "  # 結果を結合してデータフレーム化\n",
    "  #valueとcolumnが辞書型として入っている\n",
    "  scores = pd.DataFrame({'適合率': precision, '再現率': recall, 'F1スコア': f1},\n",
    "                      index=['b', 'e', 't', 'm', 'マイクロ平均', 'マクロ平均'])\n",
    "  return scores\n",
    "\n",
    "print(calculate_scores(test['CATEGORY'], test_pred[1]))"
   ]
  },
  {
   "cell_type": "code",
   "execution_count": 119,
   "metadata": {},
   "outputs": [
    {
     "name": "stdout",
     "output_type": "stream",
     "text": [
      "['b' 'e' 'm' 't']\n",
      "[[-0.69078405 -0.02986314  0.26500599 ... -0.57074615 -0.39331915\n",
      "   0.46384802]\n",
      " [-0.27338127  0.48867546 -0.24032161 ...  1.10403171  0.70903832\n",
      "  -0.47935622]\n",
      " [ 0.39878725 -0.10100778 -0.07620884 ... -0.25629883 -0.13860725\n",
      "   0.06262638]\n",
      " [ 0.56537807 -0.35780454  0.05152445 ... -0.27698673 -0.17711193\n",
      "  -0.04711818]]\n",
      "【カテゴリ】b\n"
     ]
    },
    {
     "data": {
      "text/html": [
       "<div>\n",
       "<style scoped>\n",
       "    .dataframe tbody tr th:only-of-type {\n",
       "        vertical-align: middle;\n",
       "    }\n",
       "\n",
       "    .dataframe tbody tr th {\n",
       "        vertical-align: top;\n",
       "    }\n",
       "\n",
       "    .dataframe thead th {\n",
       "        text-align: right;\n",
       "    }\n",
       "</style>\n",
       "<table border=\"1\" class=\"dataframe\">\n",
       "  <thead>\n",
       "    <tr style=\"text-align: right;\">\n",
       "      <th></th>\n",
       "      <th>1</th>\n",
       "      <th>2</th>\n",
       "      <th>3</th>\n",
       "      <th>4</th>\n",
       "      <th>5</th>\n",
       "      <th>6</th>\n",
       "      <th>7</th>\n",
       "      <th>8</th>\n",
       "      <th>9</th>\n",
       "      <th>10</th>\n",
       "    </tr>\n",
       "  </thead>\n",
       "  <tbody>\n",
       "    <tr>\n",
       "      <th>重要度上位</th>\n",
       "      <td>bank</td>\n",
       "      <td>fed</td>\n",
       "      <td>china</td>\n",
       "      <td>ecb</td>\n",
       "      <td>stocks</td>\n",
       "      <td>ukraine</td>\n",
       "      <td>obamacare</td>\n",
       "      <td>euro</td>\n",
       "      <td>oil</td>\n",
       "      <td>yellen</td>\n",
       "    </tr>\n",
       "    <tr>\n",
       "      <th>重要度下位</th>\n",
       "      <td>her</td>\n",
       "      <td>video</td>\n",
       "      <td>ebola</td>\n",
       "      <td>the</td>\n",
       "      <td>and</td>\n",
       "      <td>she</td>\n",
       "      <td>aereo</td>\n",
       "      <td>study</td>\n",
       "      <td>google</td>\n",
       "      <td>virus</td>\n",
       "    </tr>\n",
       "  </tbody>\n",
       "</table>\n",
       "</div>"
      ],
      "text/plain": [
       "         1      2      3    4       5        6          7      8       9   \\\n",
       "重要度上位  bank    fed  china  ecb  stocks  ukraine  obamacare   euro     oil   \n",
       "重要度下位   her  video  ebola  the     and      she      aereo  study  google   \n",
       "\n",
       "           10  \n",
       "重要度上位  yellen  \n",
       "重要度下位   virus  "
      ]
     },
     "metadata": {},
     "output_type": "display_data"
    },
    {
     "name": "stdout",
     "output_type": "stream",
     "text": [
      "\n",
      "\n",
      "【カテゴリ】e\n"
     ]
    },
    {
     "data": {
      "text/html": [
       "<div>\n",
       "<style scoped>\n",
       "    .dataframe tbody tr th:only-of-type {\n",
       "        vertical-align: middle;\n",
       "    }\n",
       "\n",
       "    .dataframe tbody tr th {\n",
       "        vertical-align: top;\n",
       "    }\n",
       "\n",
       "    .dataframe thead th {\n",
       "        text-align: right;\n",
       "    }\n",
       "</style>\n",
       "<table border=\"1\" class=\"dataframe\">\n",
       "  <thead>\n",
       "    <tr style=\"text-align: right;\">\n",
       "      <th></th>\n",
       "      <th>1</th>\n",
       "      <th>2</th>\n",
       "      <th>3</th>\n",
       "      <th>4</th>\n",
       "      <th>5</th>\n",
       "      <th>6</th>\n",
       "      <th>7</th>\n",
       "      <th>8</th>\n",
       "      <th>9</th>\n",
       "      <th>10</th>\n",
       "    </tr>\n",
       "  </thead>\n",
       "  <tbody>\n",
       "    <tr>\n",
       "      <th>重要度上位</th>\n",
       "      <td>kardashian</td>\n",
       "      <td>chris</td>\n",
       "      <td>star</td>\n",
       "      <td>movie</td>\n",
       "      <td>he</td>\n",
       "      <td>her</td>\n",
       "      <td>she</td>\n",
       "      <td>film</td>\n",
       "      <td>jay</td>\n",
       "      <td>paul</td>\n",
       "    </tr>\n",
       "    <tr>\n",
       "      <th>重要度下位</th>\n",
       "      <td>us</td>\n",
       "      <td>update</td>\n",
       "      <td>google</td>\n",
       "      <td>study</td>\n",
       "      <td>gm</td>\n",
       "      <td>china</td>\n",
       "      <td>facebook</td>\n",
       "      <td>billion</td>\n",
       "      <td>ceo</td>\n",
       "      <td>could</td>\n",
       "    </tr>\n",
       "  </tbody>\n",
       "</table>\n",
       "</div>"
      ],
      "text/plain": [
       "               1       2       3      4   5      6         7        8    9   \\\n",
       "重要度上位  kardashian   chris    star  movie  he    her       she     film  jay   \n",
       "重要度下位          us  update  google  study  gm  china  facebook  billion  ceo   \n",
       "\n",
       "          10  \n",
       "重要度上位   paul  \n",
       "重要度下位  could  "
      ]
     },
     "metadata": {},
     "output_type": "display_data"
    },
    {
     "name": "stdout",
     "output_type": "stream",
     "text": [
      "\n",
      "\n",
      "【カテゴリ】m\n"
     ]
    },
    {
     "data": {
      "text/html": [
       "<div>\n",
       "<style scoped>\n",
       "    .dataframe tbody tr th:only-of-type {\n",
       "        vertical-align: middle;\n",
       "    }\n",
       "\n",
       "    .dataframe tbody tr th {\n",
       "        vertical-align: top;\n",
       "    }\n",
       "\n",
       "    .dataframe thead th {\n",
       "        text-align: right;\n",
       "    }\n",
       "</style>\n",
       "<table border=\"1\" class=\"dataframe\">\n",
       "  <thead>\n",
       "    <tr style=\"text-align: right;\">\n",
       "      <th></th>\n",
       "      <th>1</th>\n",
       "      <th>2</th>\n",
       "      <th>3</th>\n",
       "      <th>4</th>\n",
       "      <th>5</th>\n",
       "      <th>6</th>\n",
       "      <th>7</th>\n",
       "      <th>8</th>\n",
       "      <th>9</th>\n",
       "      <th>10</th>\n",
       "    </tr>\n",
       "  </thead>\n",
       "  <tbody>\n",
       "    <tr>\n",
       "      <th>重要度上位</th>\n",
       "      <td>ebola</td>\n",
       "      <td>study</td>\n",
       "      <td>drug</td>\n",
       "      <td>fda</td>\n",
       "      <td>cancer</td>\n",
       "      <td>mers</td>\n",
       "      <td>could</td>\n",
       "      <td>cases</td>\n",
       "      <td>health</td>\n",
       "      <td>cigarettes</td>\n",
       "    </tr>\n",
       "    <tr>\n",
       "      <th>重要度下位</th>\n",
       "      <td>facebook</td>\n",
       "      <td>gm</td>\n",
       "      <td>apple</td>\n",
       "      <td>bank</td>\n",
       "      <td>google</td>\n",
       "      <td>ceo</td>\n",
       "      <td>deal</td>\n",
       "      <td>climate</td>\n",
       "      <td>twitter</td>\n",
       "      <td>sales</td>\n",
       "    </tr>\n",
       "  </tbody>\n",
       "</table>\n",
       "</div>"
      ],
      "text/plain": [
       "             1      2      3     4       5     6      7        8        9   \\\n",
       "重要度上位     ebola  study   drug   fda  cancer  mers  could    cases   health   \n",
       "重要度下位  facebook     gm  apple  bank  google   ceo   deal  climate  twitter   \n",
       "\n",
       "               10  \n",
       "重要度上位  cigarettes  \n",
       "重要度下位       sales  "
      ]
     },
     "metadata": {},
     "output_type": "display_data"
    },
    {
     "name": "stdout",
     "output_type": "stream",
     "text": [
      "\n",
      "\n",
      "【カテゴリ】t\n"
     ]
    },
    {
     "data": {
      "text/html": [
       "<div>\n",
       "<style scoped>\n",
       "    .dataframe tbody tr th:only-of-type {\n",
       "        vertical-align: middle;\n",
       "    }\n",
       "\n",
       "    .dataframe tbody tr th {\n",
       "        vertical-align: top;\n",
       "    }\n",
       "\n",
       "    .dataframe thead th {\n",
       "        text-align: right;\n",
       "    }\n",
       "</style>\n",
       "<table border=\"1\" class=\"dataframe\">\n",
       "  <thead>\n",
       "    <tr style=\"text-align: right;\">\n",
       "      <th></th>\n",
       "      <th>1</th>\n",
       "      <th>2</th>\n",
       "      <th>3</th>\n",
       "      <th>4</th>\n",
       "      <th>5</th>\n",
       "      <th>6</th>\n",
       "      <th>7</th>\n",
       "      <th>8</th>\n",
       "      <th>9</th>\n",
       "      <th>10</th>\n",
       "    </tr>\n",
       "  </thead>\n",
       "  <tbody>\n",
       "    <tr>\n",
       "      <th>重要度上位</th>\n",
       "      <td>google</td>\n",
       "      <td>facebook</td>\n",
       "      <td>apple</td>\n",
       "      <td>microsoft</td>\n",
       "      <td>climate</td>\n",
       "      <td>gm</td>\n",
       "      <td>tesla</td>\n",
       "      <td>nasa</td>\n",
       "      <td>earth</td>\n",
       "      <td>heartbleed</td>\n",
       "    </tr>\n",
       "    <tr>\n",
       "      <th>重要度下位</th>\n",
       "      <td>stocks</td>\n",
       "      <td>fed</td>\n",
       "      <td>her</td>\n",
       "      <td>percent</td>\n",
       "      <td>drug</td>\n",
       "      <td>american</td>\n",
       "      <td>cancer</td>\n",
       "      <td>shares</td>\n",
       "      <td>still</td>\n",
       "      <td>ukraine</td>\n",
       "    </tr>\n",
       "  </tbody>\n",
       "</table>\n",
       "</div>"
      ],
      "text/plain": [
       "           1         2      3          4        5         6       7       8   \\\n",
       "重要度上位  google  facebook  apple  microsoft  climate        gm   tesla    nasa   \n",
       "重要度下位  stocks       fed    her    percent     drug  american  cancer  shares   \n",
       "\n",
       "          9           10  \n",
       "重要度上位  earth  heartbleed  \n",
       "重要度下位  still     ukraine  "
      ]
     },
     "metadata": {},
     "output_type": "display_data"
    },
    {
     "name": "stdout",
     "output_type": "stream",
     "text": [
      "\n",
      "\n"
     ]
    }
   ],
   "source": [
    "#X_trainのcolumnsのところをvaluesとしてとってくる\n",
    "features = X_train.columns.values\n",
    "#print(X_train)\n",
    "#print(features)\n",
    "index = [i for i in range(1, 11)]\n",
    "#zip関数　要素をまとめる\n",
    "#print(lg.classes_) ラベル名\n",
    "#print(lg.coef_) 回帰係数\n",
    "for c, coef in zip(lg.classes_, lg.coef_):\n",
    "  print(f'【カテゴリ】{c}')\n",
    "  #\n",
    "  # .TはTranspose\n",
    "  best10 = pd.DataFrame(features[np.argsort(coef)[::-1][:10]], columns=['重要度上位'], index=index).T\n",
    "  worst10 = pd.DataFrame(features[np.argsort(coef)[:10]], columns=['重要度下位'], index=index).T\n",
    "  #axis=0だと、データが下にconcatされる\n",
    "  display(pd.concat([best10, worst10], axis=0))\n",
    "  print('\\n')"
   ]
  },
  {
   "cell_type": "code",
   "execution_count": 65,
   "metadata": {},
   "outputs": [
    {
     "name": "stderr",
     "output_type": "stream",
     "text": [
      "100%|██████████| 10/10 [02:38<00:00, 15.86s/it]\n"
     ]
    }
   ],
   "source": [
    "from tqdm import tqdm\n",
    "#tqdm 進捗状況や処理状況をプログレスバーとして表示する機能\n",
    "\n",
    "result = []\n",
    "# np.logspace 対数スケール配列\n",
    "#　10^(-5) ~ 10 ^4までを値に持つ配列を10こ生成\n",
    "for C in tqdm(np.logspace(-5, 4, 10, base=10)):\n",
    "  \n",
    "  # モデルの学習 .fit(学習用のデータ,　正解ラベル)\n",
    "  lg = LogisticRegression(random_state=123, max_iter=10000, C=C)\n",
    "  lg.fit(X_train, train['CATEGORY'])\n",
    "\n",
    "  # 予測値の取得, score_lgは自分でdefineした\n",
    "  train_pred = score_lg(lg, X_train)\n",
    "  valid_pred = score_lg(lg, X_valid)\n",
    "  test_pred = score_lg(lg, X_test)\n",
    "\n",
    "  # 正解率の算出, accuracy_score(正解サンプル, 予測サンプル)\n",
    "  train_accuracy = accuracy_score(train['CATEGORY'], train_pred[1])\n",
    "  valid_accuracy = accuracy_score(valid['CATEGORY'], valid_pred[1])\n",
    "  test_accuracy = accuracy_score(test['CATEGORY'], test_pred[1])\n",
    "\n",
    "  # 結果の格納\n",
    "  result.append([C, train_accuracy, valid_accuracy, test_accuracy])"
   ]
  },
  {
   "cell_type": "code",
   "execution_count": 66,
   "metadata": {},
   "outputs": [
    {
     "data": {
      "image/png": "[encoded data removed]",
      "text/plain": [
       "<Figure size 432x288 with 1 Axes>"
      ]
     },
     "metadata": {
      "needs_background": "light"
     },
     "output_type": "display_data"
    }
   ],
   "source": [
    "# 視覚化\n",
    "result = np.array(result).T\n",
    "plt.plot(result[0], result[1], label='train')\n",
    "plt.plot(result[0], result[2], label='valid')\n",
    "plt.plot(result[0], result[3], label='test')\n",
    "plt.ylim(0, 1.1)\n",
    "plt.ylabel('Accuracy')\n",
    "plt.xscale ('log')\n",
    "plt.xlabel('C')\n",
    "plt.legend()\n",
    "plt.show()"
   ]
  },
  {
   "cell_type": "code",
   "execution_count": null,
   "metadata": {},
   "outputs": [],
   "source": [
    "import optuna\n",
    "\n",
    "# 最適化対象を関数で指定\n",
    "def objective_lg(trial):\n",
    "  # チューニング対象パラメータのセット\n",
    "  l1_ratio = trial.suggest_uniform('l1_ratio', 0, 1)\n",
    "  C = trial.suggest_loguniform('C', 1e-4, 1e4)\n",
    "\n",
    "  # モデルの学習\n",
    "  lg = LogisticRegression(random_state=123, \n",
    "                          max_iter=10000, \n",
    "                          penalty='elasticnet', \n",
    "                          solver='saga', \n",
    "                          l1_ratio=l1_ratio, \n",
    "                          C=C)\n",
    "  lg.fit(X_train, train['CATEGORY'])\n",
    "\n",
    "  # 予測値の取得\n",
    "  valid_pred = score_lg(lg, X_valid)\n",
    "\n",
    "  # 正解率の算出\n",
    "  valid_accuracy = accuracy_score(valid['CATEGORY'], valid_pred[1])    \n",
    "\n",
    "  return valid_accuracy \n",
    "\n",
    "  # 最適化\n",
    "study = optuna.create_study(direction='maximize')\n",
    "study.optimize(objective_lg, timeout=3600)\n",
    "\n",
    "# 結果の表示\n",
    "print('Best trial:')\n",
    "trial = study.best_trial\n",
    "print('  Value: {:.3f}'.format(trial.value))\n",
    "print('  Params: ')\n",
    "for key, value in trial.params.items():\n",
    "  print('    {}: {}'.format(key, value))\n"
   ]
  },
  {
   "cell_type": "code",
   "execution_count": null,
   "metadata": {},
   "outputs": [],
   "source": [
    "# パラメータの設定\n",
    "l1_ratio = trial.params['l1_ratio']\n",
    "C = trial.params['C']\n",
    "\n",
    "# モデルの学習\n",
    "lg = LogisticRegression(random_state=123, \n",
    "                        max_iter=10000, \n",
    "                        penalty='elasticnet', \n",
    "                        solver='saga', \n",
    "                        l1_ratio=l1_ratio, \n",
    "                        C=C)\n",
    "lg.fit(X_train, train['CATEGORY'])\n",
    "\n",
    "# 予測値の取得\n",
    "train_pred = score_lg(lg, X_train)\n",
    "valid_pred = score_lg(lg, X_valid)\n",
    "test_pred = score_lg(lg, X_test)\n",
    "\n",
    "# 正解率の算出\n",
    "train_accuracy = accuracy_score(train['CATEGORY'], train_pred[1]) \n",
    "valid_accuracy = accuracy_score(valid['CATEGORY'], valid_pred[1]) \n",
    "test_accuracy = accuracy_score(test['CATEGORY'], test_pred[1]) \n",
    "\n",
    "print(f'正解率（学習データ）：{train_accuracy:.3f}')\n",
    "print(f'正解率（検証データ）：{valid_accuracy:.3f}')\n",
    "print(f'正解率（評価データ）：{test_accuracy:.3f}')"
   ]
  }
 ],
 "metadata": {
  "kernelspec": {
   "display_name": "Python 3.8.9 64-bit",
   "language": "python",
   "name": "python3"
  },
  "language_info": {
   "codemirror_mode": {
    "name": "ipython",
    "version": 3
   },
   "file_extension": ".py",
   "mimetype": "text/x-python",
   "name": "python",
   "nbconvert_exporter": "python",
   "pygments_lexer": "ipython3",
   "version": "3.8.9"
  },
  "orig_nbformat": 4,
  "vscode": {
   "interpreter": {
    "hash": "31f2aee4e71d21fbe5cf8b01ff0e069b9275f58929596ceb00d14d90e3e16cd6"
   }
  }
 },
 "nbformat": 4,
 "nbformat_minor": 2
}
